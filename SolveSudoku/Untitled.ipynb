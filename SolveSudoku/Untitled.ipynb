{
 "cells": [
  {
   "cell_type": "code",
   "execution_count": 1,
   "metadata": {},
   "outputs": [
    {
     "name": "stderr",
     "output_type": "stream",
     "text": [
      "Using TensorFlow backend.\n",
      "WARNING: Logging before flag parsing goes to stderr.\n",
      "W1026 14:42:40.517947 4557682112 deprecation_wrapper.py:119] From /Users/Himanshu/anaconda3/lib/python3.6/site-packages/keras/backend/tensorflow_backend.py:517: The name tf.placeholder is deprecated. Please use tf.compat.v1.placeholder instead.\n",
      "\n",
      "W1026 14:42:40.545089 4557682112 deprecation_wrapper.py:119] From /Users/Himanshu/anaconda3/lib/python3.6/site-packages/keras/backend/tensorflow_backend.py:4138: The name tf.random_uniform is deprecated. Please use tf.random.uniform instead.\n",
      "\n",
      "W1026 14:42:40.562398 4557682112 deprecation_wrapper.py:119] From /Users/Himanshu/anaconda3/lib/python3.6/site-packages/keras/backend/tensorflow_backend.py:245: The name tf.get_default_graph is deprecated. Please use tf.compat.v1.get_default_graph instead.\n",
      "\n",
      "W1026 14:42:40.563835 4557682112 deprecation_wrapper.py:119] From /Users/Himanshu/anaconda3/lib/python3.6/site-packages/keras/backend/tensorflow_backend.py:174: The name tf.get_default_session is deprecated. Please use tf.compat.v1.get_default_session instead.\n",
      "\n",
      "W1026 14:42:40.565372 4557682112 deprecation_wrapper.py:119] From /Users/Himanshu/anaconda3/lib/python3.6/site-packages/keras/backend/tensorflow_backend.py:181: The name tf.ConfigProto is deprecated. Please use tf.compat.v1.ConfigProto instead.\n",
      "\n",
      "W1026 14:42:40.638256 4557682112 deprecation_wrapper.py:119] From /Users/Himanshu/anaconda3/lib/python3.6/site-packages/keras/backend/tensorflow_backend.py:3976: The name tf.nn.max_pool is deprecated. Please use tf.nn.max_pool2d instead.\n",
      "\n",
      "W1026 14:42:40.711178 4557682112 deprecation.py:506] From /Users/Himanshu/anaconda3/lib/python3.6/site-packages/keras/backend/tensorflow_backend.py:3445: calling dropout (from tensorflow.python.ops.nn_ops) with keep_prob is deprecated and will be removed in a future version.\n",
      "Instructions for updating:\n",
      "Please use `rate` instead of `keep_prob`. Rate should be set to `rate = 1 - keep_prob`.\n"
     ]
    },
    {
     "name": "stdout",
     "output_type": "stream",
     "text": [
      "Loaded saved model from disk.\n"
     ]
    }
   ],
   "source": [
    "import cv2\n",
    "from SudokuExtractor import extract_sudoku\n",
    "from NumberExtractor import extract_number\n",
    "from NumberExtractor import *"
   ]
  },
  {
   "cell_type": "code",
   "execution_count": 2,
   "metadata": {},
   "outputs": [],
   "source": [
    "img = extract_sudoku('sudoku.jpg')"
   ]
  },
  {
   "cell_type": "code",
   "execution_count": 3,
   "metadata": {},
   "outputs": [],
   "source": [
    "grid = extract_number(img)"
   ]
  },
  {
   "cell_type": "code",
   "execution_count": 4,
   "metadata": {},
   "outputs": [],
   "source": [
    "grid_out = []\n",
    "for i in range(grid.shape[0]):\n",
    "    row = []\n",
    "    for j in range(grid[0].shape[0]):\n",
    "        if grid[i][j] == 0:\n",
    "            row.append('')\n",
    "        else:\n",
    "            row.append(str(grid[i][j]))\n",
    "    grid_out.append(row)"
   ]
  },
  {
   "cell_type": "code",
   "execution_count": 5,
   "metadata": {},
   "outputs": [
    {
     "data": {
      "text/plain": [
       "[['', '', '', '8', '', '', '7', '', ''],\n",
       " ['7', '', '6', '', '', '', '', '', '9'],\n",
       " ['', '', '', '', '', '5', '', '8', ''],\n",
       " ['', '7', '', '', '2', '', '', '9', '3'],\n",
       " ['8', '', '', '', '', '', '', '', '5'],\n",
       " ['4', '3', '', '', '1', '', '', '7', ''],\n",
       " ['', '5', '', '2', '', '', '', '', ''],\n",
       " ['3', '', '', '', '', '', '2', '', '8'],\n",
       " ['', '', '2', '3', '', '1', '', '', '']]"
      ]
     },
     "execution_count": 5,
     "metadata": {},
     "output_type": "execute_result"
    }
   ],
   "source": [
    "grid_out"
   ]
  },
  {
   "cell_type": "code",
   "execution_count": null,
   "metadata": {},
   "outputs": [],
   "source": []
  }
 ],
 "metadata": {
  "kernelspec": {
   "display_name": "Python 3",
   "language": "python",
   "name": "python3"
  },
  "language_info": {
   "codemirror_mode": {
    "name": "ipython",
    "version": 3
   },
   "file_extension": ".py",
   "mimetype": "text/x-python",
   "name": "python",
   "nbconvert_exporter": "python",
   "pygments_lexer": "ipython3",
   "version": "3.6.5"
  }
 },
 "nbformat": 4,
 "nbformat_minor": 2
}
